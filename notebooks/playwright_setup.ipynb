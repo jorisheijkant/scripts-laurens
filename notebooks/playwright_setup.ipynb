{
 "cells": [
  {
   "cell_type": "markdown",
   "metadata": {},
   "source": [
    "# Playwright setup \n",
    "\n",
    "Set up a standard playwright headless browser with the stealth plug-in. Go to a page and download it. \n",
    "\n",
    "First let's import the needed packages."
   ]
  },
  {
   "cell_type": "code",
   "execution_count": null,
   "metadata": {
    "vscode": {
     "languageId": "plaintext"
    }
   },
   "outputs": [],
   "source": [
    "from playwright.async_api import async_playwright\n",
    "from playwright_stealth import stealth_async"
   ]
  },
  {
   "cell_type": "markdown",
   "metadata": {},
   "source": [
    "## Set up a browser and navigate to a page\n",
    "\n",
    "Below is a standard function that uses Playwright to open a browser and navigate to a page. It then saves said page to the data folder. Note that on the first run of this script, Playwright might ask you to install some browsers."
   ]
  },
  {
   "cell_type": "code",
   "execution_count": null,
   "metadata": {
    "vscode": {
     "languageId": "plaintext"
    }
   },
   "outputs": [],
   "source": [
    "page_name = \"google\"\n",
    "data_folder = \"data\"\n",
    "\n",
    "async def scrape_all(headless=True):\n",
    "    async with async_playwright() as p:\n",
    "        browser = await p.firefox.launch(headless=headless)\n",
    "        context = await browser.new_context()\n",
    "        page = await context.new_page()\n",
    "        await stealth_async(page)\n",
    "\n",
    "        page.goto(\"https://google.nl\")\n",
    "        page.wait_for_timeout(3000)\n",
    "\n",
    "        html_content = await page.content()\n",
    "\n",
    "        file_name = f\"{data_folder}/{page_name}.html\"\n",
    "\n",
    "        os.makedirs(data_folder, exist_ok=True)\n",
    "        with open(file_name, 'w', encoding='utf-8') as file:\n",
    "            file.write(html_content)\n",
    "\n",
    "        browser.close()\n",
    "\n",
    "loop = asyncio.get_event_loop()\n",
    "loop.run_until_complete(scrape_all(headless=True))"
   ]
  }
 ],
 "metadata": {
  "language_info": {
   "name": "python"
  }
 },
 "nbformat": 4,
 "nbformat_minor": 2
}
