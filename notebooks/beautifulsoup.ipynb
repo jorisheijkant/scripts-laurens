{
 "cells": [
  {
   "cell_type": "markdown",
   "metadata": {},
   "source": [
    "# Fetching content with Beautifulsoup\n",
    "\n",
    "Below some standard code to fetch content with Beautifulsoup. \n",
    "\n",
    "First import the module:"
   ]
  },
  {
   "cell_type": "code",
   "execution_count": 1,
   "metadata": {},
   "outputs": [],
   "source": [
    "from bs4 import BeautifulSoup"
   ]
  },
  {
   "cell_type": "markdown",
   "metadata": {},
   "source": [
    "## Loading the file\n",
    "\n",
    "Load the file with Python. N.B. Run the `requests` script first to have this file available."
   ]
  },
  {
   "cell_type": "code",
   "execution_count": 3,
   "metadata": {},
   "outputs": [],
   "source": [
    "marktplaats_file = \"../data/marktplaats.html\"\n",
    "\n",
    "with open(marktplaats_file) as html_file:\n",
    "    soup = BeautifulSoup(html_file, \"html.parser\")"
   ]
  },
  {
   "cell_type": "markdown",
   "metadata": {},
   "source": [
    "## Getting elements\n",
    "\n",
    "From here onwards you can get various elements from the html. Below we just list the frequently searched categories."
   ]
  },
  {
   "cell_type": "code",
   "execution_count": 10,
   "metadata": {},
   "outputs": [
    {
     "name": "stdout",
     "output_type": "stream",
     "text": [
      "60 popular search terms found:\n",
      "gratis\n",
      "kas\n",
      "overkapping\n",
      "haardhout\n",
      "tuinhuis\n",
      "schuur\n",
      "tegels\n",
      "tuinset\n",
      "brievenbus\n",
      "loungeset\n",
      "kwantum bloempot\n",
      "hout\n",
      "poort\n",
      "zitmaaier\n",
      "jacuzzi\n",
      "brandhout\n",
      "tuintafel\n",
      "partytent\n",
      "kamado\n",
      "hekwerk\n",
      "kast\n",
      "gratis\n",
      "bank\n",
      "hoekbank\n",
      "keuken\n",
      "eettafel\n",
      "tafel\n",
      "bureau\n",
      "kledingkast\n",
      "eetkamerstoelen\n",
      "dressoir\n",
      "ikea\n",
      "salontafel\n",
      "tv meubel\n",
      "fauteuil\n",
      "bed\n",
      "vintage\n",
      "boekenkast\n",
      "spiegel\n",
      "bankstel\n",
      "gratis\n",
      "lego\n",
      "box\n",
      "duplo\n",
      "commode\n",
      "slee\n",
      "kinderstoel\n",
      "buggy\n",
      "stokke tripp trapp\n",
      "kinderwagen\n",
      "babykamer\n",
      "ronde box\n",
      "autostoel\n",
      "ledikant\n",
      "lego technic\n",
      "skipak\n",
      "baby box\n",
      "peuterbed\n",
      "speelgoed\n",
      "inklapbare box\n"
     ]
    }
   ],
   "source": [
    "all_popular_terms = soup.select(\".PopularSearchesBlock-list a\")\n",
    "print(f\"{len(all_popular_terms)} popular search terms found:\")\n",
    "\n",
    "for item in all_popular_terms:\n",
    "    print(item.text)"
   ]
  }
 ],
 "metadata": {
  "kernelspec": {
   "display_name": "playwright",
   "language": "python",
   "name": "python3"
  },
  "language_info": {
   "codemirror_mode": {
    "name": "ipython",
    "version": 3
   },
   "file_extension": ".py",
   "mimetype": "text/x-python",
   "name": "python",
   "nbconvert_exporter": "python",
   "pygments_lexer": "ipython3",
   "version": "3.12.4"
  }
 },
 "nbformat": 4,
 "nbformat_minor": 2
}
