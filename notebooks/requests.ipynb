{
 "cells": [
  {
   "cell_type": "markdown",
   "metadata": {},
   "source": [
    "# Requests \n",
    "\n",
    "Get a web page using the `requests` module. \n",
    "\n",
    "First, import requests"
   ]
  },
  {
   "cell_type": "code",
   "execution_count": 1,
   "metadata": {},
   "outputs": [],
   "source": [
    "import requests"
   ]
  },
  {
   "cell_type": "markdown",
   "metadata": {},
   "source": [
    "## Do the request and save the page\n",
    "\n",
    "Below the code to get and save a web page with requests."
   ]
  },
  {
   "cell_type": "code",
   "execution_count": 3,
   "metadata": {},
   "outputs": [],
   "source": [
    "page_name = \"marktplaats\"\n",
    "data_folder = \"data\"\n",
    "site_url = \"https://marktplaats.nl\"\n",
    "\n",
    "response = requests.get(site_url)\n",
    "response.raise_for_status()\n",
    "html_content = response.text\n",
    "\n",
    "file_name = f\"../{data_folder}/{page_name}.html\"\n",
    "with open(file_name, 'w', encoding='utf-8') as file:\n",
    "    file.write(html_content)"
   ]
  }
 ],
 "metadata": {
  "kernelspec": {
   "display_name": "Python 3",
   "language": "python",
   "name": "python3"
  },
  "language_info": {
   "codemirror_mode": {
    "name": "ipython",
    "version": 3
   },
   "file_extension": ".py",
   "mimetype": "text/x-python",
   "name": "python",
   "nbconvert_exporter": "python",
   "pygments_lexer": "ipython3",
   "version": "3.12.0"
  }
 },
 "nbformat": 4,
 "nbformat_minor": 2
}
